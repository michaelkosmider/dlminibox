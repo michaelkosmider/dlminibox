{
 "cells": [
  {
   "cell_type": "code",
   "execution_count": null,
   "id": "eb5fae47",
   "metadata": {},
   "outputs": [
    {
     "name": "stdout",
     "output_type": "stream",
     "text": [
      "[[2. 4.]\n",
      " [2. 4.]]\n"
     ]
    }
   ],
   "source": [
    "from dl import Variable\n",
    "from dl.functions import matmul, add, sum\n",
    "import numpy as np\n",
    "\n",
    "A = Variable(np.array([[3, 7], [2, 5]], dtype=np.float32), keep_grad=True)\n",
    "\n",
    "B = Variable(np.array([[2, 0], [0, 4]], dtype=np.float32), keep_grad=True)\n",
    "\n",
    "D = Variable(np.array([[5, 3], [1, 9]], dtype=np.float32), keep_grad=True)\n",
    "\n",
    "C = matmul(A, B)\n",
    "\n",
    "E = add(B, D)\n",
    "\n",
    "W = add(C, E)\n",
    "\n",
    "z = sum(W)\n",
    "\n",
    "z.backward()\n",
    "\n",
    "# Example\n",
    "print(A.grad)\n",
    "\n",
    "# Output:\n",
    "# [[2. 4.]\n",
    "#  [2. 4.]]"
   ]
  }
 ],
 "metadata": {
  "kernelspec": {
   "display_name": "personal_torch",
   "language": "python",
   "name": "python3"
  },
  "language_info": {
   "codemirror_mode": {
    "name": "ipython",
    "version": 3
   },
   "file_extension": ".py",
   "mimetype": "text/x-python",
   "name": "python",
   "nbconvert_exporter": "python",
   "pygments_lexer": "ipython3",
   "version": "3.12.4"
  }
 },
 "nbformat": 4,
 "nbformat_minor": 5
}
