{
 "cells": [
  {
   "cell_type": "code",
   "execution_count": 14,
   "id": "458534c0",
   "metadata": {},
   "outputs": [
    {
     "name": "stdout",
     "output_type": "stream",
     "text": [
      "The autoreload extension is already loaded. To reload it, use:\n",
      "  %reload_ext autoreload\n"
     ]
    }
   ],
   "source": [
    "%load_ext autoreload\n",
    "%autoreload 2"
   ]
  },
  {
   "cell_type": "code",
   "execution_count": 15,
   "id": "5ea63530",
   "metadata": {},
   "outputs": [],
   "source": [
    "# Downloading CIFAR-10\n",
    "import numpy as np\n",
    "import os\n",
    "import requests\n",
    "import tarfile\n",
    "import pickle\n",
    "\n",
    "# Model definition\n",
    "from dl import Module\n",
    "from dl.modules import Convolution, ReLU, Linear, Flatten, MaxPool\n",
    "\n",
    "# Training\n",
    "from dl import Variable\n",
    "from dl.data import BatchLoader, train_val_split, accuracy\n",
    "from dl.data.transforms import ComposeTransforms, ToFloat, ToVariable, RandomCrop, RandomHorizontalFlip, Normalize3D\n",
    "from dl.optimizers import SGD, LRScheduler\n",
    "from dl.functions import cross_entropy_loss\n",
    "\n",
    "# Output\n",
    "from tqdm import tqdm\n",
    "import matplotlib.pyplot as plt"
   ]
  },
  {
   "cell_type": "markdown",
   "id": "d763036d",
   "metadata": {},
   "source": [
    "## Download and extract CIFAR-10."
   ]
  },
  {
   "cell_type": "code",
   "execution_count": 16,
   "id": "b9420cd1",
   "metadata": {},
   "outputs": [
    {
     "name": "stdout",
     "output_type": "stream",
     "text": [
      "\n",
      "CIFAR-10 is ready at: ./data/cifar-10-batches-py\n"
     ]
    }
   ],
   "source": [
    "root = './data'\n",
    "url = 'https://www.cs.toronto.edu/~kriz/cifar-10-python.tar.gz'\n",
    "filename = 'cifar-10-python.tar.gz'\n",
    "archive_path = os.path.join(root, filename)\n",
    "extract_path = os.path.join(root, 'cifar-10-batches-py')\n",
    "\n",
    "os.makedirs(root, exist_ok=True)\n",
    "\n",
    "# Download compressed file containing dataset.\n",
    "if not os.path.exists(archive_path):\n",
    "    with requests.get(url, stream=True) as r:\n",
    "        r.raise_for_status()\n",
    "        with open(archive_path, 'wb') as f:\n",
    "            for chunk in r.iter_content(chunk_size=8192):\n",
    "                if chunk:\n",
    "                    f.write(chunk)\n",
    "\n",
    "# Extract dataset from compressed file.\n",
    "if not os.path.exists(extract_path):\n",
    "    with tarfile.open(archive_path, 'r:gz') as tar:\n",
    "        tar.extractall(path=os.path.dirname(extract_path))\n",
    "\n",
    "print(f\"\\nCIFAR-10 is ready at: {extract_path}\")"
   ]
  },
  {
   "cell_type": "markdown",
   "id": "1e41c6c5",
   "metadata": {},
   "source": [
    "## Load CIFAR-10 into ram."
   ]
  },
  {
   "cell_type": "code",
   "execution_count": 17,
   "id": "b6c8321c",
   "metadata": {},
   "outputs": [],
   "source": [
    "def load_cifar_batch(batch_path):\n",
    "    with open(batch_path, 'rb') as fo:\n",
    "        batch = pickle.load(fo, encoding='bytes')\n",
    "        X = batch[b'data'] # shape (10000, 3072)\n",
    "        X = X.reshape(-1, 3, 32, 32).astype(np.float32)\n",
    "        y = np.array(batch[b'labels']) # list of 10000 ints\n",
    "\n",
    "    return X, y\n",
    "\n",
    "# Iterate over all 5 batch files.\n",
    "xs = []\n",
    "ys = []\n",
    "for i in range(1, 6): \n",
    "    batch_path = os.path.join(extract_path, f'data_batch_{i}')\n",
    "    with open(batch_path, 'rb') as fo:\n",
    "        X, y = load_cifar_batch(batch_path)\n",
    "\n",
    "    xs.append(X)\n",
    "    ys.append(y)\n",
    "\n",
    "X_train_full = np.concatenate(xs)  # shape (50000, 3, 32, 32)\n",
    "y_train_full = np.concatenate(ys)\n",
    "X_test, y_test = load_cifar_batch(os.path.join(extract_path, 'test_batch'))\n",
    "\n",
    "# Set aside a validation set.\n",
    "X_train, y_train, X_val, y_val = train_val_split(X_train_full, y_train_full, ratio=0.1, seed=42)"
   ]
  },
  {
   "cell_type": "markdown",
   "id": "47b94f5e",
   "metadata": {},
   "source": [
    "## Define Transforms and Augmentations."
   ]
  },
  {
   "cell_type": "code",
   "execution_count": 18,
   "id": "6f33233c",
   "metadata": {},
   "outputs": [],
   "source": [
    "# Compute normalization statistics.\n",
    "X_for_stats = X_train.astype(np.float32) / 255.0\n",
    "mean = np.mean(X_for_stats, axis=(0, 2, 3))\n",
    "std = np.std(X_for_stats, axis=(0, 2, 3))\n",
    "\n",
    "\n",
    "train_image_transforms = ComposeTransforms([RandomCrop(32), RandomHorizontalFlip(0.5), ToFloat(255.0), Normalize3D(mean, std), ToVariable()])\n",
    "val_image_transforms = ComposeTransforms([ToFloat(255.0), Normalize3D(mean, std), ToVariable()])\n",
    "label_transforms = ToVariable()\n"
   ]
  },
  {
   "cell_type": "markdown",
   "id": "65ff392c",
   "metadata": {},
   "source": [
    "## Create BatchLoaders."
   ]
  },
  {
   "cell_type": "code",
   "execution_count": 19,
   "id": "a1314ccb",
   "metadata": {},
   "outputs": [],
   "source": [
    "class Cifar10:\n",
    "    \n",
    "    def __init__(self, images, labels, image_transforms=None, label_transforms=None):\n",
    "        super().__init__()\n",
    "        \n",
    "        self.images = images\n",
    "        self.labels = labels\n",
    "        self.image_transforms = image_transforms\n",
    "        self.label_transforms = label_transforms\n",
    "        \n",
    "    def __getitem__(self, idx):\n",
    "        \n",
    "        image = self.images[idx]\n",
    "        label = self.labels[idx]\n",
    "        \n",
    "        if self.image_transforms is not None:\n",
    "            image = self.image_transforms(image)\n",
    "        \n",
    "        if self.label_transforms is not None:\n",
    "            label = self.label_transforms(label)\n",
    "            \n",
    "        return image, label\n",
    "        \n",
    "    def __len__(self):\n",
    "        return self.images.shape[0]"
   ]
  },
  {
   "cell_type": "code",
   "execution_count": 20,
   "id": "c90756bf",
   "metadata": {},
   "outputs": [],
   "source": [
    "BATCH_SIZE = 64\n",
    "\n",
    "batchloaders = {}\n",
    "batchloaders['train'] = BatchLoader(Cifar10(X_train, y_train, train_image_transforms, label_transforms), batch_size=BATCH_SIZE, shuffle=True)\n",
    "batchloaders['val'] = BatchLoader(Cifar10(X_val, y_val, val_image_transforms, label_transforms), batch_size=BATCH_SIZE, shuffle=False)\n",
    "batchloaders['test'] = BatchLoader(Cifar10(X_test, y_test, val_image_transforms, label_transforms), batch_size=BATCH_SIZE, shuffle=False)"
   ]
  },
  {
   "cell_type": "markdown",
   "id": "77751abe",
   "metadata": {},
   "source": [
    "## Define the CNN architecture."
   ]
  },
  {
   "cell_type": "code",
   "execution_count": 21,
   "id": "acda34ab",
   "metadata": {},
   "outputs": [],
   "source": [
    "class CNN(Module):\n",
    "    def __init__(self):\n",
    "        super().__init__()\n",
    "        \n",
    "        # Conv Block 1\n",
    "        self.conv1 = Convolution(C_in=3, C_out=32, K=3, stride=1, padding=1)\n",
    "        self.relu1 = ReLU()\n",
    "        self.pool1 = MaxPool(K=2, stride=2)  # 32x32 → 16x16\n",
    "\n",
    "        # Conv Block 2\n",
    "        self.conv2 = Convolution(C_in=32, C_out=64, K=3, stride=1, padding=1)\n",
    "        self.relu2 = ReLU()\n",
    "        self.pool2 = MaxPool(K=2, stride=2)  # 16x16 → 8x8\n",
    "\n",
    "        # Conv Block 3\n",
    "        self.conv3 = Convolution(C_in=64, C_out=128, K=3, stride=1, padding=1)\n",
    "        self.relu3 = ReLU()\n",
    "        self.pool3 = MaxPool(K=2, stride=2)  # 8x8 → 4x4\n",
    "\n",
    "        self.flat = Flatten()\n",
    "        self.fc1 = Linear(128 * 4 * 4, 256)\n",
    "        self.relu4 = ReLU()\n",
    "        self.fc2 = Linear(256, 10)  # CIFAR-10 output\n",
    "\n",
    "    def forward(self, X):\n",
    "        X = self.pool1(self.relu1(self.conv1(X)))\n",
    "        X = self.pool2(self.relu2(self.conv2(X)))\n",
    "        X = self.pool3(self.relu3(self.conv3(X)))\n",
    "        X = self.flat(X)\n",
    "        X = self.relu4(self.fc1(X))\n",
    "        X = self.fc2(X)\n",
    "        return X"
   ]
  },
  {
   "cell_type": "markdown",
   "id": "55a69728",
   "metadata": {},
   "source": [
    "## Train the CNN."
   ]
  },
  {
   "cell_type": "code",
   "execution_count": 22,
   "id": "3c777bec",
   "metadata": {},
   "outputs": [],
   "source": [
    "learning_rate_schedule = {0: 0.003, 17: 0.001, 25: 0.0005}\n",
    "\n",
    "model = CNN()\n",
    "optimizer = SGD(model.parameters(), weight_decay=2e-4 , momentum=0.9)\n",
    "scheduler = LRScheduler(optimizer, learning_rate_schedule)"
   ]
  },
  {
   "cell_type": "code",
   "execution_count": null,
   "id": "ffbe7ace",
   "metadata": {},
   "outputs": [
    {
     "name": "stdout",
     "output_type": "stream",
     "text": [
      "\n",
      "Epoch 1/35\n"
     ]
    },
    {
     "name": "stderr",
     "output_type": "stream",
     "text": [
      "                                                                       \r"
     ]
    },
    {
     "name": "stdout",
     "output_type": "stream",
     "text": [
      "Train Loss: 1.5585 | Val Loss: 1.3245\n",
      "\n",
      "Epoch 2/35\n"
     ]
    },
    {
     "name": "stderr",
     "output_type": "stream",
     "text": [
      "                                                                       \r"
     ]
    },
    {
     "name": "stdout",
     "output_type": "stream",
     "text": [
      "Train Loss: 1.1159 | Val Loss: 1.0921\n",
      "\n",
      "Epoch 3/35\n"
     ]
    },
    {
     "name": "stderr",
     "output_type": "stream",
     "text": [
      "                                                                       \r"
     ]
    },
    {
     "name": "stdout",
     "output_type": "stream",
     "text": [
      "Train Loss: 1.0176 | Val Loss: 1.0760\n",
      "\n",
      "Epoch 4/35\n"
     ]
    },
    {
     "name": "stderr",
     "output_type": "stream",
     "text": [
      "                                                                       \r"
     ]
    },
    {
     "name": "stdout",
     "output_type": "stream",
     "text": [
      "Train Loss: 0.9483 | Val Loss: 0.9387\n",
      "\n",
      "Epoch 5/35\n"
     ]
    },
    {
     "name": "stderr",
     "output_type": "stream",
     "text": [
      "                                                                       \r"
     ]
    },
    {
     "name": "stdout",
     "output_type": "stream",
     "text": [
      "Train Loss: 0.8943 | Val Loss: 0.9818\n",
      "\n",
      "Epoch 6/35\n"
     ]
    },
    {
     "name": "stderr",
     "output_type": "stream",
     "text": [
      "                                                                       \r"
     ]
    },
    {
     "name": "stdout",
     "output_type": "stream",
     "text": [
      "Train Loss: 0.8533 | Val Loss: 0.8485\n",
      "\n",
      "Epoch 7/35\n"
     ]
    },
    {
     "name": "stderr",
     "output_type": "stream",
     "text": [
      "                                                                       \r"
     ]
    },
    {
     "name": "stdout",
     "output_type": "stream",
     "text": [
      "Train Loss: 0.8161 | Val Loss: 0.8701\n",
      "\n",
      "Epoch 8/35\n"
     ]
    },
    {
     "name": "stderr",
     "output_type": "stream",
     "text": [
      "                                                                       \r"
     ]
    },
    {
     "name": "stdout",
     "output_type": "stream",
     "text": [
      "Train Loss: 0.7790 | Val Loss: 0.9015\n",
      "\n",
      "Epoch 9/35\n"
     ]
    },
    {
     "name": "stderr",
     "output_type": "stream",
     "text": [
      "Training:  12%|█▏        | 85/704 [00:14<01:47,  5.73it/s, loss=0.977]"
     ]
    }
   ],
   "source": [
    "epochs = 35\n",
    "train_losses = []\n",
    "val_losses = []\n",
    "\n",
    "train_accuracies = []\n",
    "val_accuracies = []\n",
    "\n",
    "for epoch in range(epochs):\n",
    "    \n",
    "    print(f\"\\nEpoch {epoch + 1}/{epochs}\")\n",
    "    \n",
    "    # Train\n",
    "    \n",
    "    train_loss = 0\n",
    "    train_correct = 0\n",
    "    train_total = 0\n",
    "    model.enable_grad()\n",
    "    pbar = tqdm(batchloaders['train'], desc=\"Training\", leave=False)\n",
    "    for X_batch, y_batch in pbar:\n",
    "        \n",
    "        # Compute features and loss.\n",
    "        features = model(X_batch)\n",
    "        loss = cross_entropy_loss(features, y_batch)\n",
    "       \n",
    "        # Update model parameters.\n",
    "        optimizer.clear_grad()\n",
    "        loss.backward()\n",
    "        optimizer.update_parameters()\n",
    "    \n",
    "        train_loss += loss.data * len(y_batch.data)\n",
    "        train_correct += accuracy(features, y_batch)\n",
    "        train_total += len(y_batch.data)\n",
    "        \n",
    "        # Update tqdm bar with batch loss\n",
    "        pbar.set_postfix(loss=loss.data)\n",
    "        \n",
    "    train_losses.append(train_loss / train_total)\n",
    "    train_accuracies.append(train_correct / train_total)\n",
    "    scheduler.step()\n",
    "    \n",
    "    # Validate\n",
    "    \n",
    "    val_loss = 0\n",
    "    val_correct = 0\n",
    "    val_total = 0\n",
    "    model.disable_grad()\n",
    "    for X_batch, y_batch in tqdm(batchloaders['val'], desc=\"Validating\", leave=False):\n",
    "        \n",
    "        features = model(X_batch)\n",
    "        loss = cross_entropy_loss(features, y_batch)\n",
    "        \n",
    "        val_loss += loss.data * len(y_batch.data)\n",
    "        val_correct += accuracy(features, y_batch)\n",
    "        val_total += len(y_batch.data)\n",
    "        \n",
    "    val_losses.append(val_loss / val_total)\n",
    "    val_accuracies.append(val_correct / val_total)\n",
    "    print(f\"Train Loss: {train_losses[-1]:.4f} | Val Loss: {val_losses[-1]:.4f}\")"
   ]
  },
  {
   "cell_type": "markdown",
   "id": "396c7fb8",
   "metadata": {},
   "source": [
    "## Plot results: Loss and Accuracy vs Epoch."
   ]
  },
  {
   "cell_type": "code",
   "execution_count": null,
   "id": "282b2e64",
   "metadata": {},
   "outputs": [
    {
     "data": {
      "image/png": "[encoded data removed]",
      "text/plain": [
       "<Figure size 640x480 with 1 Axes>"
      ]
     },
     "metadata": {},
     "output_type": "display_data"
    }
   ],
   "source": [
    "plt.plot(train_losses, label=\"Training Loss\")\n",
    "plt.plot(val_losses, label=\"Validation Loss\")\n",
    "plt.xlabel(\"Epoch\")\n",
    "plt.ylabel(\"Loss\")\n",
    "plt.title(\"Training vs Validation Loss\")\n",
    "plt.legend()\n",
    "plt.grid(True)\n",
    "plt.show()"
   ]
  },
  {
   "cell_type": "code",
   "execution_count": null,
   "id": "bf424477",
   "metadata": {},
   "outputs": [
    {
     "data": {
      "image/png": "[encoded data removed]",
      "text/plain": [
       "<Figure size 640x480 with 1 Axes>"
      ]
     },
     "metadata": {},
     "output_type": "display_data"
    }
   ],
   "source": [
    "plt.plot(train_accuracies, label=\"Training Acc\")\n",
    "plt.plot(val_accuracies, label=\"Validation Acc\")\n",
    "plt.xlabel(\"Epoch\")\n",
    "plt.ylabel(\"Accuracy\")\n",
    "plt.title(\"Training and Validation Accuracy\")\n",
    "plt.legend()\n",
    "plt.grid(True)\n",
    "plt.show()"
   ]
  },
  {
   "cell_type": "markdown",
   "id": "79bc14ea",
   "metadata": {},
   "source": [
    "## Calculate final test score."
   ]
  },
  {
   "cell_type": "code",
   "execution_count": null,
   "id": "7c0c9b12",
   "metadata": {},
   "outputs": [
    {
     "name": "stdout",
     "output_type": "stream",
     "text": [
      "Test Loss: 0.6431 | Test Accuracy: 0.7805\n"
     ]
    }
   ],
   "source": [
    "test_loss = 0\n",
    "test_correct = 0\n",
    "test_total = 0\n",
    "model.disable_grad()\n",
    "for X_batch, y_batch in batchloaders['test']:\n",
    "    \n",
    "    features = model(X_batch)\n",
    "    loss = cross_entropy_loss(features, y_batch)\n",
    "    test_loss += loss.data * len(y_batch.data)\n",
    "    test_correct += accuracy(features, y_batch)\n",
    "    test_total += len(y_batch.data)\n",
    "    \n",
    "print(f\"Test Loss: {(test_loss / test_total):.4f} | Test Accuracy: {(test_correct / test_total):.4f}\")"
   ]
  }
 ],
 "metadata": {
  "kernelspec": {
   "display_name": "dlminibox",
   "language": "python",
   "name": "python3"
  },
  "language_info": {
   "codemirror_mode": {
    "name": "ipython",
    "version": 3
   },
   "file_extension": ".py",
   "mimetype": "text/x-python",
   "name": "python",
   "nbconvert_exporter": "python",
   "pygments_lexer": "ipython3",
   "version": "3.12.8"
  }
 },
 "nbformat": 4,
 "nbformat_minor": 5
}
